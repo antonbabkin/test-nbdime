{
 "cells": [
  {
   "cell_type": "markdown",
   "id": "a9e797a7-1033-48b8-9387-eb0837aedeb5",
   "metadata": {},
   "source": [
    "# nbdime test notebook"
   ]
  },
  {
   "cell_type": "code",
   "execution_count": null,
   "id": "b35a6301-67f8-4823-98f9-e1f950696d96",
   "metadata": {},
   "outputs": [],
   "source": [
    "# some python code with output\n",
    "print(1)"
   ]
  },
  {
   "cell_type": "code",
   "execution_count": null,
   "id": "d50cc0e2-14fb-4c0d-8f5e-23217ec6454e",
   "metadata": {},
   "outputs": [],
   "source": [
    "print('a')"
   ]
  }
 ],
 "metadata": {
  "language_info": {
   "name": "python"
  }
 },
 "nbformat": 4,
 "nbformat_minor": 5
}
