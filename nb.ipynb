{
 "cells": [
  {
   "cell_type": "markdown",
   "id": "a9e797a7-1033-48b8-9387-eb0837aedeb5",
   "metadata": {},
   "source": [
    "# nbdime test notebook"
   ]
  },
  {
   "cell_type": "code",
   "execution_count": null,
   "id": "b35a6301-67f8-4823-98f9-e1f950696d96",
   "metadata": {},
   "outputs": [],
   "source": [
    "# some python code with output\n",
    "print(1)"
   ]
  },
  {
   "cell_type": "code",
   "execution_count": null,
   "id": "d50cc0e2-14fb-4c0d-8f5e-23217ec6454e",
   "metadata": {},
   "outputs": [],
   "source": [
    "print('a')"
   ]
  },
  {
   "cell_type": "markdown",
   "id": "761033b6-ef07-43e4-a028-5ea8ba4f57f1",
   "metadata": {},
   "source": [
    "# Initial configuration could be in the notebook"
   ]
  }
 ],
 "metadata": {
  "language_info": {
   "name": "python"
  }
 },
 "nbformat": 4,
 "nbformat_minor": 5
}
